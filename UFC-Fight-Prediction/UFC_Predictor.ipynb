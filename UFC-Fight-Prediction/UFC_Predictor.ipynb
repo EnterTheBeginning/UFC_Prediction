{
  "nbformat": 4,
  "nbformat_minor": 0,
  "metadata": {
    "colab": {
      "name": "UFC-Predictor.ipynb",
      "version": "0.3.2",
      "provenance": [],
      "collapsed_sections": [],
      "include_colab_link": true
    },
    "kernelspec": {
      "name": "python3",
      "display_name": "Python 3"
    }
  },
  "cells": [
    {
      "cell_type": "markdown",
      "metadata": {
        "id": "view-in-github",
        "colab_type": "text"
      },
      "source": [
        "<a href=\"https://colab.research.google.com/github/ashkanfarhangi/UFC-Prediction/blob/master/UFC_Predictor.ipynb\" target=\"_parent\"><img src=\"https://colab.research.google.com/assets/colab-badge.svg\" alt=\"Open In Colab\"/></a>"
      ]
    },
    {
      "cell_type": "code",
      "metadata": {
        "id": "q1K864Cykcrd",
        "colab_type": "code",
        "colab": {
          "base_uri": "https://localhost:8080/",
          "height": 34
        },
        "outputId": "7dfda9d1-9ce7-49bc-8c77-a2a871e18939"
      },
      "source": [
        "import numpy as np\n",
        "import pandas as pd\n",
        "import matplotlib.pyplot as plt\n",
        "from warnings import filterwarnings\n",
        "filterwarnings('ignore')\n",
        "import tensorflow as tf\n",
        "from sklearn.model_selection import train_test_split\n",
        "from sklearn.preprocessing import MinMaxScaler\n",
        "from keras import models\n",
        "from keras.layers import Dense\n",
        "from google.colab import drive\n",
        "drive.mount('/content/gdrive')"
      ],
      "execution_count": 63,
      "outputs": [
        {
          "output_type": "stream",
          "text": [
            "Drive already mounted at /content/gdrive; to attempt to forcibly remount, call drive.mount(\"/content/gdrive\", force_remount=True).\n"
          ],
          "name": "stdout"
        }
      ]
    },
    {
      "cell_type": "markdown",
      "metadata": {
        "id": "3hQX14-jpqht",
        "colab_type": "text"
      },
      "source": [
        ""
      ]
    },
    {
      "cell_type": "code",
      "metadata": {
        "id": "S7BI1VeOkpPZ",
        "colab_type": "code",
        "colab": {
          "base_uri": "https://localhost:8080/",
          "height": 343
        },
        "outputId": "9bdbf137-21f7-43e6-b454-413cff850549"
      },
      "source": [
        "df = pd.read_excel('/content/gdrive/My Drive/Colab Notebooks/1.TensorFlow/projectUFC/data/ufc_data.xlsx')\n",
        "df.head()"
      ],
      "execution_count": 46,
      "outputs": [
        {
          "output_type": "execute_result",
          "data": {
            "text/html": [
              "<div>\n",
              "<style scoped>\n",
              "    .dataframe tbody tr th:only-of-type {\n",
              "        vertical-align: middle;\n",
              "    }\n",
              "\n",
              "    .dataframe tbody tr th {\n",
              "        vertical-align: top;\n",
              "    }\n",
              "\n",
              "    .dataframe thead th {\n",
              "        text-align: right;\n",
              "    }\n",
              "</style>\n",
              "<table border=\"1\" class=\"dataframe\">\n",
              "  <thead>\n",
              "    <tr style=\"text-align: right;\">\n",
              "      <th></th>\n",
              "      <th>Unnamed: 0</th>\n",
              "      <th>fighter1</th>\n",
              "      <th>fighter2</th>\n",
              "      <th>winner</th>\n",
              "      <th>weight_class</th>\n",
              "      <th>title_fight</th>\n",
              "      <th>method</th>\n",
              "      <th>end_round</th>\n",
              "      <th>fight_year</th>\n",
              "      <th>win_fighter1</th>\n",
              "      <th>lose_fighter1</th>\n",
              "      <th>draw_fighter1</th>\n",
              "      <th>nc_fighter1</th>\n",
              "      <th>height_fighter1</th>\n",
              "      <th>reach_fighter1</th>\n",
              "      <th>stance_fighter1</th>\n",
              "      <th>SLpM_fighter1</th>\n",
              "      <th>Str_Acc_fighter1</th>\n",
              "      <th>SApM_fighter1</th>\n",
              "      <th>Str_Def_fighter1</th>\n",
              "      <th>TD_Avg_fighter1</th>\n",
              "      <th>TD_Acc_fighter1</th>\n",
              "      <th>TD_Def_fighter1</th>\n",
              "      <th>Sub_Avg_fighter1</th>\n",
              "      <th>win%_fighter1</th>\n",
              "      <th>born_year_fighter1</th>\n",
              "      <th>win_fighter2</th>\n",
              "      <th>lose_fighter2</th>\n",
              "      <th>draw_fighter2</th>\n",
              "      <th>nc_fighter2</th>\n",
              "      <th>height_fighter2</th>\n",
              "      <th>reach_fighter2</th>\n",
              "      <th>stance_fighter2</th>\n",
              "      <th>SLpM_fighter2</th>\n",
              "      <th>Str_Acc_fighter2</th>\n",
              "      <th>SApM_fighter2</th>\n",
              "      <th>Str_Def_fighter2</th>\n",
              "      <th>TD_Avg_fighter2</th>\n",
              "      <th>TD_Acc_fighter2</th>\n",
              "      <th>TD_Def_fighter2</th>\n",
              "      <th>Sub_Avg_fighter2</th>\n",
              "      <th>win%_fighter2</th>\n",
              "      <th>born_year_fighter2</th>\n",
              "    </tr>\n",
              "  </thead>\n",
              "  <tbody>\n",
              "    <tr>\n",
              "      <th>0</th>\n",
              "      <td>0</td>\n",
              "      <td>Santiago Ponzinibbio</td>\n",
              "      <td>Neil Magny</td>\n",
              "      <td>1</td>\n",
              "      <td>Welterweight</td>\n",
              "      <td>f</td>\n",
              "      <td>KO/TKO</td>\n",
              "      <td>4</td>\n",
              "      <td>2018</td>\n",
              "      <td>28</td>\n",
              "      <td>3</td>\n",
              "      <td>0</td>\n",
              "      <td>0</td>\n",
              "      <td>6' 0\"</td>\n",
              "      <td>73\"</td>\n",
              "      <td>Orthodox</td>\n",
              "      <td>4.27</td>\n",
              "      <td>39</td>\n",
              "      <td>4.02</td>\n",
              "      <td>64</td>\n",
              "      <td>0.54</td>\n",
              "      <td>44</td>\n",
              "      <td>60</td>\n",
              "      <td>0.0</td>\n",
              "      <td>90.322580</td>\n",
              "      <td>1986</td>\n",
              "      <td>21</td>\n",
              "      <td>8</td>\n",
              "      <td>0</td>\n",
              "      <td>0</td>\n",
              "      <td>6' 3\"</td>\n",
              "      <td>80\"</td>\n",
              "      <td>Orthodox</td>\n",
              "      <td>3.86</td>\n",
              "      <td>46</td>\n",
              "      <td>2.22</td>\n",
              "      <td>56</td>\n",
              "      <td>2.62</td>\n",
              "      <td>46</td>\n",
              "      <td>60</td>\n",
              "      <td>0.3</td>\n",
              "      <td>72.413795</td>\n",
              "      <td>1987</td>\n",
              "    </tr>\n",
              "    <tr>\n",
              "      <th>1</th>\n",
              "      <td>1</td>\n",
              "      <td>Ricardo Lamas</td>\n",
              "      <td>Darren Elkins</td>\n",
              "      <td>1</td>\n",
              "      <td>Featherweight</td>\n",
              "      <td>f</td>\n",
              "      <td>KO/TKO</td>\n",
              "      <td>3</td>\n",
              "      <td>2018</td>\n",
              "      <td>19</td>\n",
              "      <td>7</td>\n",
              "      <td>0</td>\n",
              "      <td>0</td>\n",
              "      <td>5' 8\"</td>\n",
              "      <td>71\"</td>\n",
              "      <td>Orthodox</td>\n",
              "      <td>2.87</td>\n",
              "      <td>45</td>\n",
              "      <td>2.61</td>\n",
              "      <td>59</td>\n",
              "      <td>1.66</td>\n",
              "      <td>32</td>\n",
              "      <td>47</td>\n",
              "      <td>1.0</td>\n",
              "      <td>73.076920</td>\n",
              "      <td>1982</td>\n",
              "      <td>25</td>\n",
              "      <td>7</td>\n",
              "      <td>0</td>\n",
              "      <td>0</td>\n",
              "      <td>5' 10\"</td>\n",
              "      <td>71\"</td>\n",
              "      <td>Orthodox</td>\n",
              "      <td>3.36</td>\n",
              "      <td>37</td>\n",
              "      <td>2.83</td>\n",
              "      <td>53</td>\n",
              "      <td>2.68</td>\n",
              "      <td>35</td>\n",
              "      <td>57</td>\n",
              "      <td>1.3</td>\n",
              "      <td>78.125000</td>\n",
              "      <td>1984</td>\n",
              "    </tr>\n",
              "    <tr>\n",
              "      <th>2</th>\n",
              "      <td>2</td>\n",
              "      <td>Johnny Walker</td>\n",
              "      <td>Khalil Rountree Jr.</td>\n",
              "      <td>1</td>\n",
              "      <td>Light Heavyweight</td>\n",
              "      <td>f</td>\n",
              "      <td>KO/TKO</td>\n",
              "      <td>1</td>\n",
              "      <td>2018</td>\n",
              "      <td>15</td>\n",
              "      <td>3</td>\n",
              "      <td>0</td>\n",
              "      <td>0</td>\n",
              "      <td>6' 5\"</td>\n",
              "      <td>82\"</td>\n",
              "      <td>Orthodox</td>\n",
              "      <td>5.37</td>\n",
              "      <td>70</td>\n",
              "      <td>3.36</td>\n",
              "      <td>25</td>\n",
              "      <td>0.89</td>\n",
              "      <td>100</td>\n",
              "      <td>100</td>\n",
              "      <td>2.6</td>\n",
              "      <td>83.333336</td>\n",
              "      <td>1992</td>\n",
              "      <td>8</td>\n",
              "      <td>2</td>\n",
              "      <td>0</td>\n",
              "      <td>2</td>\n",
              "      <td>6' 1\"</td>\n",
              "      <td>76\"</td>\n",
              "      <td>Southpaw</td>\n",
              "      <td>2.30</td>\n",
              "      <td>34</td>\n",
              "      <td>3.29</td>\n",
              "      <td>38</td>\n",
              "      <td>0.00</td>\n",
              "      <td>0</td>\n",
              "      <td>50</td>\n",
              "      <td>0.3</td>\n",
              "      <td>66.666664</td>\n",
              "      <td>1990</td>\n",
              "    </tr>\n",
              "    <tr>\n",
              "      <th>3</th>\n",
              "      <td>3</td>\n",
              "      <td>Cezar Ferreira</td>\n",
              "      <td>Ian Heinisch</td>\n",
              "      <td>0</td>\n",
              "      <td>Middleweight</td>\n",
              "      <td>f</td>\n",
              "      <td>DEC</td>\n",
              "      <td>3</td>\n",
              "      <td>2018</td>\n",
              "      <td>14</td>\n",
              "      <td>7</td>\n",
              "      <td>0</td>\n",
              "      <td>0</td>\n",
              "      <td>6' 1\"</td>\n",
              "      <td>78\"</td>\n",
              "      <td>Southpaw</td>\n",
              "      <td>1.83</td>\n",
              "      <td>42</td>\n",
              "      <td>2.14</td>\n",
              "      <td>55</td>\n",
              "      <td>2.97</td>\n",
              "      <td>59</td>\n",
              "      <td>90</td>\n",
              "      <td>0.5</td>\n",
              "      <td>66.666664</td>\n",
              "      <td>1985</td>\n",
              "      <td>12</td>\n",
              "      <td>1</td>\n",
              "      <td>0</td>\n",
              "      <td>0</td>\n",
              "      <td>5' 11\"</td>\n",
              "      <td>NaN</td>\n",
              "      <td>Orthodox</td>\n",
              "      <td>3.49</td>\n",
              "      <td>58</td>\n",
              "      <td>1.67</td>\n",
              "      <td>52</td>\n",
              "      <td>0.81</td>\n",
              "      <td>14</td>\n",
              "      <td>50</td>\n",
              "      <td>1.6</td>\n",
              "      <td>92.307690</td>\n",
              "      <td>1988</td>\n",
              "    </tr>\n",
              "    <tr>\n",
              "      <th>4</th>\n",
              "      <td>4</td>\n",
              "      <td>Marlon Vera</td>\n",
              "      <td>Guido Cannetti</td>\n",
              "      <td>1</td>\n",
              "      <td>Bantamweight</td>\n",
              "      <td>f</td>\n",
              "      <td>SUB</td>\n",
              "      <td>2</td>\n",
              "      <td>2018</td>\n",
              "      <td>12</td>\n",
              "      <td>5</td>\n",
              "      <td>1</td>\n",
              "      <td>0</td>\n",
              "      <td>5' 8\"</td>\n",
              "      <td>70\"</td>\n",
              "      <td>Switch</td>\n",
              "      <td>3.23</td>\n",
              "      <td>44</td>\n",
              "      <td>3.93</td>\n",
              "      <td>52</td>\n",
              "      <td>0.78</td>\n",
              "      <td>37</td>\n",
              "      <td>68</td>\n",
              "      <td>1.3</td>\n",
              "      <td>66.666664</td>\n",
              "      <td>1992</td>\n",
              "      <td>8</td>\n",
              "      <td>5</td>\n",
              "      <td>0</td>\n",
              "      <td>0</td>\n",
              "      <td>5' 6\"</td>\n",
              "      <td>68\"</td>\n",
              "      <td>Southpaw</td>\n",
              "      <td>2.80</td>\n",
              "      <td>52</td>\n",
              "      <td>1.95</td>\n",
              "      <td>51</td>\n",
              "      <td>2.80</td>\n",
              "      <td>50</td>\n",
              "      <td>75</td>\n",
              "      <td>0.3</td>\n",
              "      <td>61.538460</td>\n",
              "      <td>1979</td>\n",
              "    </tr>\n",
              "  </tbody>\n",
              "</table>\n",
              "</div>"
            ],
            "text/plain": [
              "   Unnamed: 0              fighter1  ... win%_fighter2  born_year_fighter2\n",
              "0           0  Santiago Ponzinibbio  ...     72.413795                1987\n",
              "1           1         Ricardo Lamas  ...     78.125000                1984\n",
              "2           2         Johnny Walker  ...     66.666664                1990\n",
              "3           3        Cezar Ferreira  ...     92.307690                1988\n",
              "4           4           Marlon Vera  ...     61.538460                1979\n",
              "\n",
              "[5 rows x 43 columns]"
            ]
          },
          "metadata": {
            "tags": []
          },
          "execution_count": 46
        }
      ]
    },
    {
      "cell_type": "markdown",
      "metadata": {
        "id": "JdTVgxmjrRP8",
        "colab_type": "text"
      },
      "source": [
        "###Preprocess:"
      ]
    },
    {
      "cell_type": "code",
      "metadata": {
        "id": "3qtTwVjYrQI-",
        "colab_type": "code",
        "colab": {}
      },
      "source": [
        "X = df.loc[:,[\"win_fighter1\",\"lose_fighter1\",'SLpM_fighter1','Str_Acc_fighter1']]\n",
        "y = df.loc[:,[\"end_round\",\"winner\"]]\n",
        "scaler = MinMaxScaler(feature_range=(0, 1))\n",
        "X = scaler.fit_transform(X)\n",
        "y = scaler.fit_transform(y)\n",
        "X_train, X_test, y_train, y_test = train_test_split(X, y, test_size=0.33, random_state=42)"
      ],
      "execution_count": 0,
      "outputs": []
    },
    {
      "cell_type": "markdown",
      "metadata": {
        "id": "VcdKzYiPxlm-",
        "colab_type": "text"
      },
      "source": [
        "###Modeling:"
      ]
    },
    {
      "cell_type": "code",
      "metadata": {
        "id": "TSicrPunzwul",
        "colab_type": "code",
        "colab": {
          "base_uri": "https://localhost:8080/",
          "height": 34
        },
        "outputId": "efac92f3-9f92-451a-90e3-7b0380f4ecd8"
      },
      "source": [
        "X_train.shape[1]"
      ],
      "execution_count": 84,
      "outputs": [
        {
          "output_type": "execute_result",
          "data": {
            "text/plain": [
              "4"
            ]
          },
          "metadata": {
            "tags": []
          },
          "execution_count": 84
        }
      ]
    },
    {
      "cell_type": "code",
      "metadata": {
        "id": "wi5KZmhhxlPY",
        "colab_type": "code",
        "colab": {}
      },
      "source": [
        "layers= [100,256,2]\n",
        "network = models.Sequential()\n",
        "network.add(Dense(output_dim = layers[0],activation = 'relu',input_dim =(X_train.shape[1])))\n",
        "network.add(Dense(output_dim = layers[1],activation = 'relu',input_dim =input_dim))\n",
        "network.add(Dense(output_dim = layers[2],activation = 'linear',input_dim =input_dim))\n",
        "network.compile(loss ='mse',optimizer='rmsprop')\n"
      ],
      "execution_count": 0,
      "outputs": []
    },
    {
      "cell_type": "code",
      "metadata": {
        "id": "W0x3sEi2zTZx",
        "colab_type": "code",
        "colab": {
          "base_uri": "https://localhost:8080/",
          "height": 731
        },
        "outputId": "f936f746-9574-4287-bbff-4e3026be0708"
      },
      "source": [
        "epoch = 20\n",
        "batch_size = 1\n",
        "network.fit(X_train,y_train,epochs= epoch,validation_split=0.05)"
      ],
      "execution_count": 94,
      "outputs": [
        {
          "output_type": "stream",
          "text": [
            "Train on 2921 samples, validate on 154 samples\n",
            "Epoch 1/20\n",
            "2921/2921 [==============================] - 0s 132us/step - loss: 0.1563 - val_loss: 0.1538\n",
            "Epoch 2/20\n",
            "2921/2921 [==============================] - 0s 66us/step - loss: 0.1494 - val_loss: 0.1392\n",
            "Epoch 3/20\n",
            "2921/2921 [==============================] - 0s 65us/step - loss: 0.1482 - val_loss: 0.1447\n",
            "Epoch 4/20\n",
            "2921/2921 [==============================] - 0s 66us/step - loss: 0.1476 - val_loss: 0.1356\n",
            "Epoch 5/20\n",
            "2921/2921 [==============================] - 0s 68us/step - loss: 0.1464 - val_loss: 0.1397\n",
            "Epoch 6/20\n",
            "2921/2921 [==============================] - 0s 70us/step - loss: 0.1461 - val_loss: 0.1382\n",
            "Epoch 7/20\n",
            "2921/2921 [==============================] - 0s 76us/step - loss: 0.1460 - val_loss: 0.1396\n",
            "Epoch 8/20\n",
            "2921/2921 [==============================] - 0s 67us/step - loss: 0.1456 - val_loss: 0.1394\n",
            "Epoch 9/20\n",
            "2921/2921 [==============================] - 0s 70us/step - loss: 0.1453 - val_loss: 0.1341\n",
            "Epoch 10/20\n",
            "2921/2921 [==============================] - 0s 67us/step - loss: 0.1453 - val_loss: 0.1363\n",
            "Epoch 11/20\n",
            "2921/2921 [==============================] - 0s 67us/step - loss: 0.1450 - val_loss: 0.1471\n",
            "Epoch 12/20\n",
            "2921/2921 [==============================] - 0s 68us/step - loss: 0.1450 - val_loss: 0.1401\n",
            "Epoch 13/20\n",
            "2921/2921 [==============================] - 0s 67us/step - loss: 0.1446 - val_loss: 0.1395\n",
            "Epoch 14/20\n",
            "2921/2921 [==============================] - 0s 71us/step - loss: 0.1440 - val_loss: 0.1456\n",
            "Epoch 15/20\n",
            "2921/2921 [==============================] - 0s 65us/step - loss: 0.1446 - val_loss: 0.1376\n",
            "Epoch 16/20\n",
            "2921/2921 [==============================] - 0s 66us/step - loss: 0.1442 - val_loss: 0.1356\n",
            "Epoch 17/20\n",
            "2921/2921 [==============================] - 0s 69us/step - loss: 0.1447 - val_loss: 0.1404\n",
            "Epoch 18/20\n",
            "2921/2921 [==============================] - 0s 69us/step - loss: 0.1440 - val_loss: 0.1416\n",
            "Epoch 19/20\n",
            "2921/2921 [==============================] - 0s 69us/step - loss: 0.1445 - val_loss: 0.1357\n",
            "Epoch 20/20\n",
            "2921/2921 [==============================] - 0s 65us/step - loss: 0.1437 - val_loss: 0.1368\n"
          ],
          "name": "stdout"
        },
        {
          "output_type": "execute_result",
          "data": {
            "text/plain": [
              "<keras.callbacks.History at 0x7f17eeb22208>"
            ]
          },
          "metadata": {
            "tags": []
          },
          "execution_count": 94
        }
      ]
    },
    {
      "cell_type": "code",
      "metadata": {
        "id": "yeV0-jnn05LJ",
        "colab_type": "code",
        "colab": {
          "base_uri": "https://localhost:8080/",
          "height": 51
        },
        "outputId": "83e2cc81-04a5-4eb9-cf97-e575c3e299c9"
      },
      "source": [
        "prediciton = network.predict(X_test)\n",
        "score = network.evaluate(X_test,y_test,verbose =1)\n",
        "print(\"Test loss: \",score)"
      ],
      "execution_count": 101,
      "outputs": [
        {
          "output_type": "stream",
          "text": [
            "1516/1516 [==============================] - 0s 26us/step\n",
            "Test loss:  0.1436557554711138\n"
          ],
          "name": "stdout"
        }
      ]
    },
    {
      "cell_type": "code",
      "metadata": {
        "id": "UXC23sA419Z6",
        "colab_type": "code",
        "colab": {
          "base_uri": "https://localhost:8080/",
          "height": 303
        },
        "outputId": "65f3dfeb-a738-4950-e757-dd2f8371f599"
      },
      "source": [
        "plt.figure(1)\n",
        "plt.plot(y_test[0:10],label=\"true\",color = 'black')\n",
        "plt.plot(prediciton[:10],label=\"predicted\",color= 'green')"
      ],
      "execution_count": 104,
      "outputs": [
        {
          "output_type": "execute_result",
          "data": {
            "text/plain": [
              "[<matplotlib.lines.Line2D at 0x7f17ee7f3e10>,\n",
              " <matplotlib.lines.Line2D at 0x7f17ee7f3f28>]"
            ]
          },
          "metadata": {
            "tags": []
          },
          "execution_count": 104
        },
        {
          "output_type": "display_data",
          "data": {
            "image/png": "[encoded data removed]",
            "text/plain": [
              "<Figure size 432x288 with 1 Axes>"
            ]
          },
          "metadata": {
            "tags": []
          }
        }
      ]
    },
    {
      "cell_type": "markdown",
      "metadata": {
        "id": "HUL3d6GxmgNR",
        "colab_type": "text"
      },
      "source": [
        "###References:\n"
      ]
    },
    {
      "cell_type": "code",
      "metadata": {
        "id": "WLq3hPCvmhtD",
        "colab_type": "code",
        "colab": {}
      },
      "source": [
        "# Dataset: https://github.com/naity/DeepUFC2\n"
      ],
      "execution_count": 0,
      "outputs": []
    }
  ]
}